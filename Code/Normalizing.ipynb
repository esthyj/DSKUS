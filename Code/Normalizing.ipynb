{
 "cells": [
  {
   "cell_type": "code",
   "execution_count": 5,
   "id": "e02962e0",
   "metadata": {},
   "outputs": [],
   "source": [
    "import pandas as pd\n",
    "import csv\n",
    "import re\n",
    "from sklearn.preprocessing import MinMaxScaler"
   ]
  },
  {
   "cell_type": "code",
   "execution_count": 6,
   "id": "512dfe15",
   "metadata": {},
   "outputs": [],
   "source": [
    "file = 'data.csv' #large file with trade data\n",
    "isocodefile='isocode.csv'\n",
    "distancefile='dist_capital.csv'"
   ]
  },
  {
   "cell_type": "code",
   "execution_count": 8,
   "id": "ca1b116b",
   "metadata": {},
   "outputs": [],
   "source": [
    "trade_data = pd.read_csv(file)\n",
    "isocode=pd.read_csv(isocodefile)\n",
    "distance=pd.read_csv(distancefile)\n",
    "trade_data['CountryPair'] = trade_data['Reporter'] + trade_data['Partner'] #use this column to join datasets later if needed\n",
    "trade_data['Trade_Indicator'] = trade_data['Ind1'] + trade_data['Ind4'] #share of exports from reporter country + share of imports from partner country\n",
    "trade_data = trade_data[trade_data['L3']=='000'].copy()\n",
    "trade_data = trade_data[['Partner', 'Reporter', 'Trade_Indicator', 'CountryPair', 'L3']]"
   ]
  },
  {
   "cell_type": "code",
   "execution_count": 9,
   "id": "e9caa33a",
   "metadata": {},
   "outputs": [],
   "source": [
    "pcc = trade_data['Partner'].str.contains(\"C\")\n",
    "trade_data = trade_data[pcc]\n",
    "rcc = trade_data['Reporter'].str.contains(\"C\")\n",
    "trade_data = trade_data[rcc]"
   ]
  },
  {
   "cell_type": "code",
   "execution_count": 10,
   "id": "10bab6dd",
   "metadata": {},
   "outputs": [],
   "source": [
    "trade_data[\"Partner\"] = trade_data[\"Partner\"].str.replace(pat=r'^C', repl=r'', regex=True)\n",
    "trade_data[\"Reporter\"] = trade_data[\"Reporter\"].str.replace(pat=r'^C', repl=r'', regex=True)"
   ]
  },
  {
   "cell_type": "code",
   "execution_count": 11,
   "id": "589e9bda",
   "metadata": {},
   "outputs": [],
   "source": [
    "trade_data['Partner'] = pd.to_numeric(trade_data['Partner'])\n",
    "trade_data['Reporter'] = pd.to_numeric(trade_data['Reporter'])\n",
    "trade=pd.merge(trade_data,isocode, left_on='Partner',right_on='Numeric code',how='inner')\n",
    "trade.rename(columns = {'Alpha-3 code' : 'partneriso'}, inplace = True)\n",
    "trade=trade[['partneriso','Reporter','Trade_Indicator','CountryPair','L3']]"
   ]
  },
  {
   "cell_type": "code",
   "execution_count": 12,
   "id": "7eb40795",
   "metadata": {},
   "outputs": [],
   "source": [
    "trade=pd.merge(trade,isocode, left_on='Reporter',right_on='Numeric code',how='inner')\n",
    "trade.rename(columns = {'Alpha-3 code' : 'reporteriso'}, inplace = True)\n",
    "trade=trade[['partneriso','reporteriso','Trade_Indicator','CountryPair','L3']]"
   ]
  },
  {
   "cell_type": "code",
   "execution_count": 13,
   "id": "34cc80e5",
   "metadata": {},
   "outputs": [],
   "source": [
    "#normalize\n",
    "trade['tradenorm']=trade['Trade_Indicator']/abs(trade['Trade_Indicator'].max())\n",
    "distance['disnorm']=distance['distcap']/abs(distance['distcap'].max())"
   ]
  },
  {
   "cell_type": "code",
   "execution_count": 14,
   "id": "091f5f47",
   "metadata": {},
   "outputs": [],
   "source": [
    "normdata = pd.merge(left=trade, right=distance, how='inner', left_on=['partneriso','reporteriso'], right_on=['iso_d','iso_o'])\n",
    "normdata['score']=normdata['tradenorm']-normdata['disnorm']\n",
    "normdata=normdata[['partneriso','reporteriso','Trade_Indicator','CountryPair','L3','tradenorm','disnorm','score']]\n",
    "normdata = normdata.sort_values(by='score' ,ascending=False)"
   ]
  },
  {
   "cell_type": "code",
   "execution_count": 16,
   "id": "610b3de9",
   "metadata": {},
   "outputs": [],
   "source": [
    "normdata.to_csv('normdata.csv')"
   ]
  },
  {
   "cell_type": "code",
   "execution_count": null,
   "id": "4649463f",
   "metadata": {},
   "outputs": [],
   "source": []
  }
 ],
 "metadata": {
  "kernelspec": {
   "display_name": "Python 3 (ipykernel)",
   "language": "python",
   "name": "python3"
  },
  "language_info": {
   "codemirror_mode": {
    "name": "ipython",
    "version": 3
   },
   "file_extension": ".py",
   "mimetype": "text/x-python",
   "name": "python",
   "nbconvert_exporter": "python",
   "pygments_lexer": "ipython3",
   "version": "3.9.13"
  }
 },
 "nbformat": 4,
 "nbformat_minor": 5
}
